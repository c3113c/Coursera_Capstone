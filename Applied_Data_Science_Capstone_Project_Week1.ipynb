{
    "cells": [
        {
            "metadata": {},
            "cell_type": "markdown",
            "source": "Capstone Project - Applied Data Science Capstone by IBM/Coursera"
        },
        {
            "metadata": {},
            "cell_type": "markdown",
            "source": "# **Optimal locations to open a Chinese restaurant in Stuttgart, Germany - *Strategic decision making using machine learning***\nCao, June 25, 2020"
        },
        {
            "metadata": {},
            "cell_type": "markdown",
            "source": "## **Table of contents**\n1. [Introduction/Business Problem](#introduction)  \n2. [Data](#data)  \n    2.1. [Data sources](#datasource)  \n    2.2. [Data cleaning](#datacleaning)    "
        },
        {
            "metadata": {},
            "cell_type": "markdown",
            "source": "<a name=\"introduction\"></a>\n## **1. Introduction/Business Problem** "
        },
        {
            "metadata": {},
            "cell_type": "markdown",
            "source": "The success of opening a new restaurant depends on several factors: location, menu, customers, competition and so on. A restaurant's location is as crucial to its success as great food and service. Therefore, it is of utmost importance to determine the location in a strategic way in order to maximize business profits.\n\nTo the audiences who are interested in opening a Chinese restaurant in Stuttgart Germany, the data analysis in this project will tell them in which regions of Stuttgart to look for the optimal location. The restaurant concept and cuisine type define the demographics and psychographics of the ideal customers. A Chinese restaurant in western cities provides exotic tastes for the local people without traveling to China. The age and density of the population in the area determine the attraction of the restaurant and therefore would be considered with the competition by leveraging the Foursquare location data to solve the business problem.\n\nFellow entrepreneurs who plan to open their first Chinese restaurant or to expand their franchised restaurants in Stuttgart would be very interested in the insights of this report for competitive advantages and business values. Those who seeking to establish an asian restaurant may also be interested."
        },
        {
            "metadata": {},
            "cell_type": "markdown",
            "source": "<a name=\"data\"></a>\n## **2. Data**"
        },
        {
            "metadata": {},
            "cell_type": "markdown",
            "source": "<a name=\"datasource\"></a>\n#### **2.1. Data sources**"
        },
        {
            "metadata": {},
            "cell_type": "markdown",
            "source": "As described in the business problem, the following aspects will be combined and considered for the decision making. Namely, \n\n- Stuttgart regions and their relevant population information including density, density of age group between 20 and 65, average age;\n- geographical coordinate of each region;\n- number of existing restaurants in each region which are grouped into three categories: Chinese restaurant, asian restaurant and other restaurant for the competition study.\n\nThe population information in Stuttgart area from year 2001 to 2019 can be found on the [Stuttgart website](https://www.stuttgart.de/statistik-stadtbezirke). The data in Excel format are provided by [Statistikatlas Stuttgart](https://statistik.stuttgart.de/statistiken/statistikatlas/atlas/atlas.html?indikator=i0&select=00) and are downloaded as 'Statistikatlas_Stuttgart_Datentabelle_Stadtbezirke.xlsx' for the further use. Geographical coordinate of each region will be obtained using the Geocoder package for the address near the region center. The Foursquare location API is used to search the existing restaurants in the vicinity of each region."
        },
        {
            "metadata": {},
            "cell_type": "markdown",
            "source": "<a name=\"datacleaning\"></a>\n#### **2.2. Data cleaning**"
        },
        {
            "metadata": {},
            "cell_type": "markdown",
            "source": "Stuttgart has altogether 23 regions. The names of the regions are imported from the Excel table. One of the key points to locate a restaurant is a good reachability of the place either by cars or by public transportations. Specially for a Chinese restaurant, a certain percentage of the customers will be Chinese overseas students who may not have cars. Therefore, the town hall of each region which usually locates in the center and is easily reachable will be defined as the address for Geocoder to get the latitude and longitude coordinates for the Foursquare searching later on.\n\n*Remark: For some regions, Geocoder fails to get the correct coordinates by only giving 'town hall' in the address. Hence, a specific address near the region center is explicitly given.*"
        },
        {
            "metadata": {},
            "cell_type": "markdown",
            "source": "Population and its density of each region from year 2001 to 2019 are imported and the region area is calculated. The region area is further used to obtain the population density of the age group between 20 and 65 which can better describe the potentiality of customers in each region. The average age is also imported from the data source as one of the features.\n\nThe existing restaurants of each region searched from Foursquare are collected in the dataframe column 'Restaurant Category' which is a categorical variable. Many machine learning models cannot operate on such variables directly and require all input variables and output variables to be numeric. Here, I use One-hot encoding to convert the categorical data to numerical data. After encoding, the number of existing restaurants for the three cuisines (Chinese, asian and other) is obtained for each region. These features combined with population density and average age (see below) are prepared for the machine learning model."
        },
        {
            "metadata": {},
            "cell_type": "markdown",
            "source": "![df_features.png](attachment:df_features.png)",
            "attachments": {
                "df_features.png": {
                    "image/png": "[encoded data removed]"
                }
            }
        }
    ],
    "metadata": {
        "kernelspec": {
            "name": "python3",
            "display_name": "Python 3.6",
            "language": "python"
        },
        "language_info": {
            "name": "python",
            "version": "3.6.9",
            "mimetype": "text/x-python",
            "codemirror_mode": {
                "name": "ipython",
                "version": 3
            },
            "pygments_lexer": "ipython3",
            "nbconvert_exporter": "python",
            "file_extension": ".py"
        }
    },
    "nbformat": 4,
    "nbformat_minor": 4
}